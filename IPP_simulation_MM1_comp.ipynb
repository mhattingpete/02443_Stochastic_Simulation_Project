{
 "cells": [
  {
   "cell_type": "markdown",
   "metadata": {},
   "source": [
    "# Comparison of an Interrupted Poisson Process with a M/M/1 system"
   ]
  },
  {
   "cell_type": "markdown",
   "metadata": {},
   "source": [
    "## Imports"
   ]
  },
  {
   "cell_type": "code",
   "execution_count": 2,
   "metadata": {},
   "outputs": [],
   "source": [
    "%matplotlib inline\n",
    "import scipy.stats as sts\n",
    "import numpy as np\n",
    "from scipy.special import factorial\n",
    "import matplotlib.pyplot as plt\n",
    "\n",
    "from Simulation import Simulation"
   ]
  },
  {
   "cell_type": "markdown",
   "metadata": {},
   "source": [
    "### Run the simulator with an interrupted poisson process"
   ]
  },
  {
   "cell_type": "code",
   "execution_count": 57,
   "metadata": {
    "scrolled": false
   },
   "outputs": [
    {
     "name": "stdout",
     "output_type": "stream",
     "text": [
      "Run 10 out of 100\n",
      "Run 20 out of 100\n",
      "Run 30 out of 100\n",
      "Run 40 out of 100\n",
      "Run 50 out of 100\n",
      "Run 60 out of 100\n",
      "Run 70 out of 100\n",
      "Run 80 out of 100\n",
      "Run 90 out of 100\n",
      "Run 100 out of 100\n"
     ]
    }
   ],
   "source": [
    "num_servers = 1\n",
    "service_mean = 0.6\n",
    "w1 = 10\n",
    "w2 = 10\n",
    "lmbda = 1\n",
    "\n",
    "interarrival_exp = lambda num: sts.expon.rvs(size=num,scale=1./lmbda)\n",
    "service_exp = lambda num: sts.expon.rvs(size=num,scale=service_mean)\n",
    "stateGenOnToOff = lambda num: sts.expon.rvs(size=num,scale=w1)\n",
    "stateGenOffToOn = lambda num: sts.expon.rvs(size=num,scale=w2)\n",
    "stateGen = (stateGenOnToOff,stateGenOffToOn)\n",
    "\n",
    "num_runs = 100\n",
    "num_departs = 10000\n",
    "sa_mean = np.zeros((num_runs,))\n",
    "sa_var = np.zeros((num_runs,))\n",
    "for run in range(num_runs):\n",
    "    if (run+1) % 10 == 0:\n",
    "        print(\"Run {} out of {}\".format(run+1,num_runs))\n",
    "    s = Simulation(num_servers=num_servers,interarrival=interarrival_exp,service=service_exp,\n",
    "                   stateGen=stateGen,superpositions=1)\n",
    "    while s.num_departed < num_departs:\n",
    "        s.advanceTime()\n",
    "    serviceActivityTimes = np.array(s.serviceActivityTimes)\n",
    "    sa_mean[run] = serviceActivityTimes.mean()\n",
    "    sa_var[run] = serviceActivityTimes.var(ddof=1)"
   ]
  },
  {
   "cell_type": "markdown",
   "metadata": {},
   "source": [
    "### Results from above"
   ]
  },
  {
   "cell_type": "code",
   "execution_count": 56,
   "metadata": {},
   "outputs": [
    {
     "name": "stdout",
     "output_type": "stream",
     "text": [
      "\n",
      "Service activity mu mean: 4.361989\n",
      "Service activity mu var: 1.037998e-02\n",
      "Service activity mu CI: [4.341773,4.382204]\n",
      "\n",
      "Service activity sigma2 mean: 36.691228\n",
      "Service activity sigma2 var: 1.116754e+01\n",
      "Service activity sigma2 CI: [36.028145,37.354311]\n"
     ]
    }
   ],
   "source": [
    "sa_mean = sa_mean[~np.isnan(sa_mean)]\n",
    "sa_var = sa_var[~np.isnan(sa_var)]\n",
    "\n",
    "print(\"\\nService activity mu mean: {0:.6f}\".format(sa_mean.mean()))\n",
    "print(\"Service activity mu var: {0:e}\".format(sa_mean.var(ddof=1)))\n",
    "n = sa_mean.shape[0]\n",
    "inner = (sa_mean.std(ddof=1)/np.sqrt(n))\n",
    "alpha = 0.05\n",
    "CI = [sa_mean.mean()+inner*sts.t.ppf(alpha/2,df=n-1),sa_mean.mean()+inner*sts.t.ppf(1-(alpha/2),df=n-1)]\n",
    "print(\"Service activity mu CI: [{0:.6f},{1:.6f}]\".format(*CI))\n",
    "\n",
    "print(\"\\nService activity sigma2 mean: {0:.6f}\".format(sa_var.mean()))\n",
    "print(\"Service activity sigma2 var: {0:e}\".format(sa_var.var(ddof=1)))\n",
    "n = sa_var.shape[0]\n",
    "inner = (sa_var.std(ddof=1)/np.sqrt(n))\n",
    "alpha = 0.05\n",
    "CI = [sa_var.mean()+inner*sts.t.ppf(alpha/2,df=n-1),sa_var.mean()+inner*sts.t.ppf(1-(alpha/2),df=n-1)]\n",
    "print(\"Service activity sigma2 CI: [{0:.6f},{1:.6f}]\".format(*CI))"
   ]
  },
  {
   "cell_type": "code",
   "execution_count": 36,
   "metadata": {},
   "outputs": [
    {
     "name": "stdout",
     "output_type": "stream",
     "text": [
      "Theoretical mean Service activity: 4.0\n",
      "Theoretical var Service activity: 144.0\n"
     ]
    }
   ],
   "source": [
    "mu = (1/service_mean)\n",
    "print(\"Theoretical mean Service activity: {0:.1f}\".format(1/(mu-lmbda)))\n",
    "print(\"Theoretical var Service activity: {0:.1f}\".format((1+(lmbda/mu))/(mu**2*(1-(lmbda/mu))**3)))"
   ]
  }
 ],
 "metadata": {
  "kernelspec": {
   "display_name": "Python 3",
   "language": "python",
   "name": "python3"
  },
  "language_info": {
   "codemirror_mode": {
    "name": "ipython",
    "version": 3
   },
   "file_extension": ".py",
   "mimetype": "text/x-python",
   "name": "python",
   "nbconvert_exporter": "python",
   "pygments_lexer": "ipython3",
   "version": "3.6.5"
  }
 },
 "nbformat": 4,
 "nbformat_minor": 2
}
