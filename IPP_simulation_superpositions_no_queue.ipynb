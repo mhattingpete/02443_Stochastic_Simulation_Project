{
 "cells": [
  {
   "cell_type": "markdown",
   "metadata": {},
   "source": [
    "# Simulation with Interrupted Poisson Process (3 super.) and No Queue"
   ]
  },
  {
   "cell_type": "markdown",
   "metadata": {},
   "source": [
    "## Imports"
   ]
  },
  {
   "cell_type": "code",
   "execution_count": 1,
   "metadata": {},
   "outputs": [],
   "source": [
    "%matplotlib inline\n",
    "import scipy.stats as sts\n",
    "import numpy as np\n",
    "from scipy.special import factorial\n",
    "import matplotlib.pyplot as plt\n",
    "\n",
    "from Simulation import Simulation"
   ]
  },
  {
   "cell_type": "markdown",
   "metadata": {},
   "source": [
    "### Run the simulator with an interrupted poisson process"
   ]
  },
  {
   "cell_type": "code",
   "execution_count": 2,
   "metadata": {},
   "outputs": [
    {
     "name": "stdout",
     "output_type": "stream",
     "text": [
      "Run 10 out of 100\n",
      "Run 20 out of 100\n",
      "Run 30 out of 100\n",
      "Run 40 out of 100\n",
      "Run 50 out of 100\n",
      "Run 60 out of 100\n",
      "Run 70 out of 100\n",
      "Run 80 out of 100\n",
      "Run 90 out of 100\n",
      "Run 100 out of 100\n"
     ]
    }
   ],
   "source": [
    "num_servers = 15\n",
    "service_mean = 6\n",
    "w1 = 8\n",
    "w2 = 8\n",
    "lmbda = 4\n",
    "superpositions = 3\n",
    "queue_size = 0\n",
    "\n",
    "interarrival_exp = lambda num: sts.expon.rvs(size=num,scale=1./lmbda)\n",
    "service_exp = lambda num: sts.expon.rvs(size=num,scale=service_mean)\n",
    "stateGenOnToOff = lambda num: sts.expon.rvs(size=num,scale=w1)\n",
    "stateGenOffToOn = lambda num: sts.expon.rvs(size=num,scale=w2)\n",
    "stateGen = (stateGenOnToOff,stateGenOffToOn)\n",
    "\n",
    "num_runs = 100\n",
    "num_departs = 10000\n",
    "blocks = np.zeros((num_runs,))\n",
    "for run in range(num_runs):\n",
    "    if (run+1) % 10 == 0:\n",
    "        print(\"Run {} out of {}\".format(run+1,num_runs))\n",
    "    s = Simulation(num_servers=num_servers,interarrival=interarrival_exp,service=service_exp,\n",
    "                   stateGen=stateGen,superpositions=superpositions,queue_size=queue_size)\n",
    "    while s.num_departed < num_departs:\n",
    "        s.advanceTime()\n",
    "    blocks[run] = s.num_blocked/s.num_arrivals"
   ]
  },
  {
   "cell_type": "markdown",
   "metadata": {},
   "source": [
    "### Results from above"
   ]
  },
  {
   "cell_type": "code",
   "execution_count": 5,
   "metadata": {},
   "outputs": [
    {
     "name": "stdout",
     "output_type": "stream",
     "text": [
      "\n",
      "Blocking prob. mean: 0.619185\n",
      "Blocking prob. var: 6.940102e-05\n",
      "Blocking prob. CI: [0.617532,0.620838]\n"
     ]
    },
    {
     "data": {
      "text/plain": [
       "Text(0.5,1,'Successive periods of Server Activity')"
      ]
     },
     "execution_count": 5,
     "metadata": {},
     "output_type": "execute_result"
    },
    {
     "data": {
      "image/png": "[encoded data removed]",
      "text/plain": [
       "<Figure size 432x288 with 1 Axes>"
      ]
     },
     "metadata": {},
     "output_type": "display_data"
    },
    {
     "data": {
      "image/png": "[encoded data removed]",
      "text/plain": [
       "<Figure size 432x288 with 1 Axes>"
      ]
     },
     "metadata": {},
     "output_type": "display_data"
    },
    {
     "data": {
      "image/png": "[encoded data removed]",
      "text/plain": [
       "<Figure size 432x288 with 1 Axes>"
      ]
     },
     "metadata": {},
     "output_type": "display_data"
    }
   ],
   "source": [
    "print(\"\\nBlocking prob. mean: {0:.6f}\".format(blocks.mean()))\n",
    "print(\"Blocking prob. var: {0:e}\".format(blocks.var(ddof=1)))\n",
    "n = blocks.shape[0]\n",
    "inner = (blocks.std(ddof=1)/np.sqrt(n))\n",
    "alpha = 0.05\n",
    "CI = [blocks.mean()+inner*sts.t.ppf(alpha/2,df=n-1),blocks.mean()+inner*sts.t.ppf(1-(alpha/2),df=n-1)]\n",
    "print(\"Blocking prob. CI: [{0:.6f},{1:.6f}]\".format(*CI))\n",
    "\n",
    "probs= -1/2*np.log(np.random.rand(10000))/2\n",
    "probs = probs-1/2*np.log(np.random.rand(10000))*2\n",
    "\n",
    "plt.figure()\n",
    "plt.hist(probs,bins=np.linspace(0,10,100),density=True)\n",
    "plt.title('Theoritical Hyper Exponential Distribution')\n",
    "plt.figure()\n",
    "plt.hist(s.arrivalTimes,bins=np.linspace(0,10,100))\n",
    "plt.title('Arrival Time Distribution')\n",
    "\n",
    "serviceActivityTimes = np.array(s.serviceActivityTimes)\n",
    "plt.figure()\n",
    "plt.hist(serviceActivityTimes,bins=np.linspace(0,20,200))\n",
    "plt.title('Successive periods of Server Activity')"
   ]
  },
  {
   "cell_type": "markdown",
   "metadata": {},
   "source": []
  }
 ],
 "metadata": {
  "kernelspec": {
   "display_name": "Python 3",
   "language": "python",
   "name": "python3"
  },
  "language_info": {
   "codemirror_mode": {
    "name": "ipython",
    "version": 3
   },
   "file_extension": ".py",
   "mimetype": "text/x-python",
   "name": "python",
   "nbconvert_exporter": "python",
   "pygments_lexer": "ipython3",
   "version": "3.6.5"
  }
 },
 "nbformat": 4,
 "nbformat_minor": 2
}
