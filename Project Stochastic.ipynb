{
 "cells": [
  {
   "cell_type": "code",
   "execution_count": 2,
   "metadata": {
    "collapsed": true
   },
   "outputs": [],
   "source": [
    "import numpy as np\n",
    "import math\n",
    "from scipy.stats import chi2\n",
    "import matplotlib.pyplot as plt\n",
    "from scipy.stats import uniform\n",
    "from statsmodels.distributions.empirical_distribution import ECDF\n",
    "from scipy.stats import ksone\n",
    "from scipy.stats import norm\n",
    "from scipy.stats import chisquare\n",
    "from scipy.stats import expon\n",
    "from scipy.stats import multivariate_normal\n",
    "from scipy.stats import pareto\n",
    "from scipy.stats import t\n",
    "from mpl_toolkits.mplot3d import Axes3D"
   ]
  },
  {
   "cell_type": "code",
   "execution_count": 112,
   "metadata": {},
   "outputs": [],
   "source": [
    "def GenerateStateTime(w_1,w_2,States):\n",
    "    StateTimes = np.zeros((len(States),))\n",
    "    for indx,s in enumerate(States):\n",
    "        if s==1:\n",
    "            StateTimes[indx] = -np.log(np.random.random())/w_1\n",
    "        else:\n",
    "            StateTimes[indx] = -np.log(np.random.random())/w_2\n",
    "    return StateTimes"
   ]
  },
  {
   "cell_type": "code",
   "execution_count": 113,
   "metadata": {
    "collapsed": true
   },
   "outputs": [],
   "source": [
    "def GenerateServiceTime(servicemean,N):\n",
    "    return -np.log(np.random.rand(N))*servicemean"
   ]
  },
  {
   "cell_type": "code",
   "execution_count": 114,
   "metadata": {
    "collapsed": true
   },
   "outputs": [],
   "source": [
    "def GenerateArrivalTime(lmbda,N):\n",
    "    return -np.log(np.random.rand(N))/lmbda"
   ]
  },
  {
   "cell_type": "code",
   "execution_count": 115,
   "metadata": {},
   "outputs": [],
   "source": [
    "def DepositToQueue(arrtime,Q,Ql):\n",
    "    #T is the curret time\n",
    "    #arrtime is the arrival time\n",
    "    #Q is current queue\n",
    "    #Ql is the queue lengths with corresponding time\n",
    "    if arrtime:\n",
    "        Q.append(arrtime)\n",
    "        if Q:\n",
    "            Ql.append([arrtime,len(Q)])\n",
    "        else:\n",
    "            Ql.append([arrtime,0])\n",
    "    else:\n",
    "        pass"
   ]
  },
  {
   "cell_type": "code",
   "execution_count": 116,
   "metadata": {
    "collapsed": true
   },
   "outputs": [],
   "source": [
    "def DrawFromQueue(T,Q,Ql,Qt,S):\n",
    "    #T is current time\n",
    "    #Q is current queue\n",
    "    #Qt is total queue waiting times\n",
    "    #S is server status\n",
    "    #s is service time mean\n",
    "    #Ql is the queue lengths with corresponding time\n",
    "    Qt.append(T-Q[0])\n",
    "    Q.pop(0)\n",
    "    if Q:\n",
    "        Ql.append([T,len(Q)])\n",
    "    else:\n",
    "        Ql.append([T,0])\n",
    "    S = 1\n",
    "    return S"
   ]
  },
  {
   "cell_type": "code",
   "execution_count": 151,
   "metadata": {},
   "outputs": [],
   "source": [
    "def SimQueueIPP(N,servicemean,w_1,w_2,lmbda,K,L):\n",
    "    import heapq\n",
    "    #N is the number of units\n",
    "    #s is the service time mean\n",
    "    #w_1 is the frequency to switching from ON to OFF\n",
    "    #w_2 is the frequency to switching from OFF to ON\n",
    "    #lmbda is the arrival intensity\n",
    "    #L is the superpositions\n",
    "    Q = []\n",
    "    Qt = []\n",
    "    Ql = []\n",
    "    M = 0\n",
    "    S = np.zeros((N,))\n",
    "    States = np.ones((L,))\n",
    "    T = 0\n",
    "    events = []\n",
    "    StateTime = GenerateStateTime(w_1,w_2,States)\n",
    "    arrival = GenerateArrivalTime(lmbda,L)\n",
    "    for indx,e in enumerate(StateTime):\n",
    "        heapq.heappush(events,(e,('StateChange',indx)))\n",
    "    for indx,e in enumerate(arrival):\n",
    "        heapq.heappush(events,(e,('Arrival',indx)))\n",
    "    k = 0\n",
    "    while(k<K):\n",
    "        #print(list(events))\n",
    "        #print(Ql)\n",
    "        event = heapq.heappop(events)\n",
    "        T = event[0]\n",
    "        if event[1][0]=='StateChange':\n",
    "            pass\n",
    "        elif event[1][0]=='Arrival':\n",
    "            indx = event[1][1]\n",
    "            if States[indx]==0:\n",
    "                continue\n",
    "            else:\n",
    "                arrivaltime = GenerateArrivalTime(lmbda,1)[0]\n",
    "                if np.any(S==0):\n",
    "                    serverindx = np.argmax(S==0)\n",
    "                    servicetime = GenerateServiceTime(servicemean,1)[0]\n",
    "                    heapq.heappush(events,(servicetime+T,('Service',serverindx)))\n",
    "                    heapq.heappush(events,(arrivaltime+T,('Arrival',indx)))\n",
    "                    S[serverindx] = 1\n",
    "                else:\n",
    "                    DepositToQueue(T,Q,Ql)\n",
    "                    heapq.heappush(events,(arrivaltime+T,('Arrival',indx)))\n",
    "                    M += 1\n",
    "        elif event[1][0]=='Service':\n",
    "            indx = event[1][1]\n",
    "            S[indx] = 0\n",
    "            k+=1\n",
    "            #print(Ql)\n",
    "            if Q:\n",
    "                S[indx] = DrawFromQueue(T,Q,Ql,Qt,S[indx])\n",
    "                servicetime = GenerateServiceTime(servicemean,1)[0]\n",
    "                heapq.heappush(events,(servicetime+T,('Service',indx)))\n",
    "            else:\n",
    "                continue\n",
    "    return Ql,Qt,M"
   ]
  },
  {
   "cell_type": "code",
   "execution_count": 155,
   "metadata": {},
   "outputs": [
    {
     "data": {
      "text/plain": [
       "3644"
      ]
     },
     "execution_count": 155,
     "metadata": {},
     "output_type": "execute_result"
    }
   ],
   "source": [
    "M"
   ]
  },
  {
   "cell_type": "code",
   "execution_count": 157,
   "metadata": {},
   "outputs": [
    {
     "name": "stdout",
     "output_type": "stream",
     "text": [
      "4092.69\n",
      "[4038.1042211194535, 4147.2757788805466]\n"
     ]
    }
   ],
   "source": [
    "Ms = []\n",
    "for i in range(100):\n",
    "    Ql,Qt,M=SimQueueIPP(10,8,2,2,1,10000,1)\n",
    "    Ms.append(M)\n",
    "mean = np.mean(Ms) \n",
    "print(mean)\n",
    "S = np.var(Ms,ddof=1)\n",
    "print([mean+t.ppf(0.025,100)*np.sqrt(S)/np.sqrt(100),mean+t.ppf(0.975,100)*np.sqrt(S)/np.sqrt(100)])"
   ]
  },
  {
   "cell_type": "code",
   "execution_count": 158,
   "metadata": {},
   "outputs": [
    {
     "data": {
      "image/png": "[encoded data removed]",
      "text/plain": [
       "<matplotlib.figure.Figure at 0x7fb1c8198588>"
      ]
     },
     "metadata": {},
     "output_type": "display_data"
    },
    {
     "data": {
      "image/png": "[encoded data removed]",
      "text/plain": [
       "<matplotlib.figure.Figure at 0x7fb1c83c1358>"
      ]
     },
     "metadata": {},
     "output_type": "display_data"
    }
   ],
   "source": [
    "plt.figure()\n",
    "plt.hist(Qt)\n",
    "Ql = np.array(Ql)\n",
    "plt.figure()\n",
    "plt.plot(Ql[:,0],Ql[:,1])\n",
    "plt.show()"
   ]
  },
  {
   "cell_type": "code",
   "execution_count": 53,
   "metadata": {},
   "outputs": [
    {
     "data": {
      "text/plain": [
       "[0.17064424663476704,\n",
       " 0.175673432357417,\n",
       " 0.53878421857740522,\n",
       " 0.39624028152851953,\n",
       " 1.0124702507853478,\n",
       " 0.42148562630819758,\n",
       " 1.5260854221036428,\n",
       " 0.27918769477531963,\n",
       " 0.49578346184418981,\n",
       " 0.77220242263076855,\n",
       " 0.91914438524717246,\n",
       " 1.4513843261417581,\n",
       " 0.15710328669397816,\n",
       " 0.62699834967066048,\n",
       " 0.13677631677383231,\n",
       " 0.32270497732417303,\n",
       " 3.3035917643858053,\n",
       " 0.79241738006927764,\n",
       " 3.0211237136489419,\n",
       " 1.0164461644317815]"
      ]
     },
     "execution_count": 53,
     "metadata": {},
     "output_type": "execute_result"
    }
   ],
   "source": [
    "10**8/math.factorial(8)"
   ]
  },
  {
   "cell_type": "code",
   "execution_count": 55,
   "metadata": {},
   "outputs": [
    {
     "ename": "NameError",
     "evalue": "name 'strcomp' is not defined",
     "output_type": "error",
     "traceback": [
      "\u001b[0;31m---------------------------------------------------------------------------\u001b[0m",
      "\u001b[0;31mNameError\u001b[0m                                 Traceback (most recent call last)",
      "\u001b[0;32m<ipython-input-55-9fc24e5832ba>\u001b[0m in \u001b[0;36m<module>\u001b[0;34m()\u001b[0m\n\u001b[0;32m----> 1\u001b[0;31m \u001b[0mstrcomp\u001b[0m\u001b[0;34m(\u001b[0m\u001b[0;34m'hey'\u001b[0m\u001b[0;34m,\u001b[0m\u001b[0;34m'hey'\u001b[0m\u001b[0;34m)\u001b[0m\u001b[0;34m\u001b[0m\u001b[0m\n\u001b[0m",
      "\u001b[0;31mNameError\u001b[0m: name 'strcomp' is not defined"
     ]
    }
   ],
   "source": [
    "strcomp('hey','hey')"
   ]
  },
  {
   "cell_type": "code",
   "execution_count": null,
   "metadata": {
    "collapsed": true
   },
   "outputs": [],
   "source": []
  }
 ],
 "metadata": {
  "kernelspec": {
   "display_name": "Python 3",
   "language": "python",
   "name": "python3"
  },
  "language_info": {
   "codemirror_mode": {
    "name": "ipython",
    "version": 3
   },
   "file_extension": ".py",
   "mimetype": "text/x-python",
   "name": "python",
   "nbconvert_exporter": "python",
   "pygments_lexer": "ipython3",
   "version": "3.6.3"
  }
 },
 "nbformat": 4,
 "nbformat_minor": 2
}
