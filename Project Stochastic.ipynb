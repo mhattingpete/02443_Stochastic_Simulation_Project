{
 "cells": [
  {
   "cell_type": "code",
   "execution_count": 1,
   "metadata": {
    "collapsed": true
   },
   "outputs": [],
   "source": [
    "import numpy as np\n",
    "import math\n",
    "from scipy.stats import chi2\n",
    "import matplotlib.pyplot as plt\n",
    "from scipy.stats import uniform\n",
    "from statsmodels.distributions.empirical_distribution import ECDF\n",
    "from scipy.stats import ksone\n",
    "from scipy.stats import norm\n",
    "from scipy.stats import chisquare\n",
    "from scipy.stats import expon\n",
    "from scipy.stats import multivariate_normal\n",
    "from scipy.stats import pareto\n",
    "from scipy.stats import t\n",
    "from mpl_toolkits.mplot3d import Axes3D"
   ]
  },
  {
   "cell_type": "code",
   "execution_count": 2,
   "metadata": {
    "collapsed": true
   },
   "outputs": [],
   "source": [
    "def GenerateStateTime(w_1,w_2,States):\n",
    "    if type(States) != list:\n",
    "        if States==1:\n",
    "            StateTimes = -np.log(np.random.random())/w_1\n",
    "        else:\n",
    "            StateTimes = -np.log(np.random.random())/w_2\n",
    "    return StateTimes"
   ]
  },
  {
   "cell_type": "code",
   "execution_count": 3,
   "metadata": {
    "collapsed": true
   },
   "outputs": [],
   "source": [
    "def GenerateServiceTime(servicemean,N):\n",
    "    return -np.log(np.random.rand(N))*servicemean"
   ]
  },
  {
   "cell_type": "code",
   "execution_count": 4,
   "metadata": {
    "collapsed": true
   },
   "outputs": [],
   "source": [
    "def GenerateArrivalTime(lmbda,N):\n",
    "    return -np.log(np.random.rand(N))/lmbda"
   ]
  },
  {
   "cell_type": "code",
   "execution_count": 115,
   "metadata": {
    "collapsed": true
   },
   "outputs": [],
   "source": [
    "def DepositToQueue(arrtime,Q,Ql):\n",
    "    #arrtime is the arrival time\n",
    "    #Q is current queue\n",
    "    #Ql is the queue lengths with corresponding time\n",
    "    Q.append(arrtime)\n",
    "    if Q:\n",
    "        Ql.append([arrtime,len(Q)])\n",
    "    else:\n",
    "        Ql.append([arrtime,0])"
   ]
  },
  {
   "cell_type": "code",
   "execution_count": 6,
   "metadata": {
    "collapsed": true
   },
   "outputs": [],
   "source": [
    "def DrawFromQueue(T,Q,Ql,Qt,S):\n",
    "    #T is current time\n",
    "    #Q is current queue\n",
    "    #Qt is total queue waiting times\n",
    "    #S is server status\n",
    "    #Ql is the queue lengths with corresponding time\n",
    "    Qt.append(T-Q[0])\n",
    "    Q.pop(0)\n",
    "    if Q:\n",
    "        Ql.append([T,len(Q)])\n",
    "    else:\n",
    "        Ql.append([T,0])\n",
    "    S = 1\n",
    "    return S"
   ]
  },
  {
   "cell_type": "code",
   "execution_count": 184,
   "metadata": {
    "collapsed": true
   },
   "outputs": [],
   "source": [
    "def DepositToQueueWithTime(arrtime,Q,Ql,w):\n",
    "    import numpy as np\n",
    "    #arrtime is the arrival time\n",
    "    #Q is current queue\n",
    "    #Ql is the queue lengths with corresponding time\n",
    "    #w is the waiting time mean\n",
    "    Q.append([arrtime,arrtime-np.log(np.random.random())*w])\n",
    "    if Q:\n",
    "        Ql.append([arrtime,len(Q)])\n",
    "    else:\n",
    "        Ql.append([arrtime,0])"
   ]
  },
  {
   "cell_type": "code",
   "execution_count": 191,
   "metadata": {
    "collapsed": true
   },
   "outputs": [],
   "source": [
    "def DrawFromQueueWithTime(T,Q,Ql,Qt):\n",
    "    #T is current time\n",
    "    #Q is current queue\n",
    "    #Qt is total queue waiting times\n",
    "    #Ql is the queue lengths with corresponding time\n",
    "    #Ts is the checking time for queue object\n",
    "    Qt.append(T-Q[0][0])\n",
    "    Ts = Q[0][1]\n",
    "    Q.pop(0)\n",
    "    if Q:\n",
    "        Ql.append([T,len(Q)])\n",
    "    else:\n",
    "        Ql.append([T,0])\n",
    "    return Ts"
   ]
  },
  {
   "cell_type": "code",
   "execution_count": 48,
   "metadata": {
    "collapsed": true
   },
   "outputs": [],
   "source": [
    "def SimQueuePP(N,servicemean,w_1,w_2,lmbda,K,L):\n",
    "    import heapq\n",
    "    import numpy as np\n",
    "    #N is the number of units\n",
    "    #s is the service time mean\n",
    "    #w_1 is the frequency to switching from ON to OFF\n",
    "    #w_2 is the frequency to switching from OFF to ON\n",
    "    #lmbda is the arrival intensity\n",
    "    #L is the superpositions\n",
    "    \n",
    "    \n",
    "    #Q is the current queue\n",
    "    Q = []\n",
    "    #Qt is the saved queue times\n",
    "    Qt = []\n",
    "    #Ql is the queue lengths with corresponding time\n",
    "    Ql = []\n",
    "    #M is the queued amount\n",
    "    M = 0\n",
    "    #S is the server status\n",
    "    S = np.zeros((N,))\n",
    "    #States is the state of the l'th IPP\n",
    "    States = np.ones((L,))\n",
    "    #T is the current event time\n",
    "    T = 0\n",
    "    #events is the prioritized event queue\n",
    "    events = []\n",
    "    #Here we generate the first arrivals and state change events and push events to event queue\n",
    "    arrival = GenerateArrivalTime(lmbda,L)\n",
    "    for l in range(L):\n",
    "        heapq.heappush(events,(GenerateStateTime(w_1,w_2,1),('StateChange',l)))\n",
    "    for indx,e in enumerate(arrival):\n",
    "        heapq.heappush(events,(e,('Arrival',indx,e)))\n",
    "    #k is the number of customers processed\n",
    "    k = 0\n",
    "    #A is the l'th arrival state, if 0 no arrival is present, if 1 an arrival is present\n",
    "    As = np.ones((L,))\n",
    "    #At is the arrival times for the arrival time distribution\n",
    "    At = []\n",
    "    while(k<K):\n",
    "        #Prints for debugging\n",
    "        #print(list(events))\n",
    "        #print(Ql)\n",
    "        \n",
    "        #Extract next event\n",
    "        event = heapq.heappop(events)\n",
    "        #Set new event time\n",
    "        T = event[0]\n",
    "        #Check for event type\n",
    "        if event[1][0]=='StateChange':\n",
    "            pass\n",
    "        elif event[1][0]=='Arrival':\n",
    "            indx = event[1][1]\n",
    "            #Set no active arrival for the IPP\n",
    "            As[indx] = 0\n",
    "            #Check state\n",
    "            if States[indx]==0:\n",
    "                #Do not arrive if state is OFF\n",
    "                continue\n",
    "            else:\n",
    "                #Save arrival time\n",
    "                At.append(event[1][2])\n",
    "                #Generate new arrival time\n",
    "                arrivaltime = GenerateArrivalTime(lmbda,1)[0]\n",
    "                #Check server availability\n",
    "                if np.any(S==0):\n",
    "                    #Save to closest availble server\n",
    "                    serverindx = np.argmax(S==0)\n",
    "                    S[serverindx] = 1\n",
    "                    #Generate service time\n",
    "                    servicetime = GenerateServiceTime(servicemean,1)[0]\n",
    "                    #Push events to event queue\n",
    "                    heapq.heappush(events,(servicetime+T,('Service',serverindx)))\n",
    "                    heapq.heappush(events,(arrivaltime+T,('Arrival',indx,arrivaltime)))\n",
    "                else:\n",
    "                    #Deposit to queue\n",
    "                    DepositToQueue(T,Q,Ql)\n",
    "                    #Push events to event queue\n",
    "                    heapq.heappush(events,(arrivaltime+T,('Arrival',indx,arrivaltime)))\n",
    "                    #Increase customers been in queue\n",
    "                    M += 1\n",
    "        elif event[1][0]=='Service':\n",
    "            indx = event[1][1]\n",
    "            #Set server to idle\n",
    "            S[indx] = 0\n",
    "            #Increase customers served\n",
    "            k+=1\n",
    "            #Check if queue is empty\n",
    "            if Q:\n",
    "                #Draw from queue\n",
    "                S[indx] = DrawFromQueue(T,Q,Ql,Qt,S[indx])\n",
    "                #Generate and push new service times\n",
    "                servicetime = GenerateServiceTime(servicemean,1)[0]\n",
    "                heapq.heappush(events,(servicetime+T,('Service',indx)))\n",
    "            else:\n",
    "                continue\n",
    "    M -= len(Q)\n",
    "    #Ql is the queue lengths with corresponding time            \n",
    "    #Qt is the saved queue times\n",
    "    #M is the queued amount\n",
    "    #At is the arrival times for the arrival time distribution\n",
    "    return Ql,Qt,M,At"
   ]
  },
  {
   "cell_type": "code",
   "execution_count": 69,
   "metadata": {
    "collapsed": true
   },
   "outputs": [],
   "source": [
    "def SimQueueIPP(N,servicemean,w_1,w_2,lmbda,K,L):\n",
    "    import heapq\n",
    "    import numpy as np\n",
    "    #N is the number of units\n",
    "    #s is the service time mean\n",
    "    #w_1 is the frequency to switching from ON to OFF\n",
    "    #w_2 is the frequency to switching from OFF to ON\n",
    "    #lmbda is the arrival intensity\n",
    "    #L is the superpositions\n",
    "    \n",
    "    \n",
    "    #Q is the current queue\n",
    "    Q = []\n",
    "    #Qt is the saved queue times\n",
    "    Qt = []\n",
    "    #Ql is the queue lengths with corresponding time\n",
    "    Ql = []\n",
    "    #M is the queued amount\n",
    "    M = 0\n",
    "    #S is the server status\n",
    "    S = np.zeros((N,))\n",
    "    #States is the state of the l'th IPP\n",
    "    States = np.ones((L,))\n",
    "    #T is the current event time\n",
    "    T = 0\n",
    "    #events is the prioritized event queue\n",
    "    events = []\n",
    "    #Here we generate the first arrivals and state change events and push events to event queue\n",
    "    arrival = GenerateArrivalTime(lmbda,L)\n",
    "    for l in range(L):\n",
    "        heapq.heappush(events,(GenerateStateTime(w_1,w_2,1),('StateChange',l)))\n",
    "    for indx,e in enumerate(arrival):\n",
    "        heapq.heappush(events,(e,('Arrival',indx,e)))\n",
    "    #k is the number of customers processed\n",
    "    k = 0\n",
    "    #A is the l'th arrival state, if 0 no arrival is present, if 1 an arrival is present\n",
    "    As = np.ones((L,))\n",
    "    #At is the arrival times for the arrival time distribution\n",
    "    At = []\n",
    "    #SAt is the server activity times\n",
    "    SAt = []\n",
    "    sat = np.min(arrival)\n",
    "    while(k<K):\n",
    "        #Prints for debugging\n",
    "        #print(list(events))\n",
    "        #print(Ql)\n",
    "        \n",
    "        #Extract next event\n",
    "        event = heapq.heappop(events)\n",
    "        #Set new event time\n",
    "        T = event[0]\n",
    "        #Check for event type\n",
    "        if event[1][0]=='StateChange':\n",
    "            indx = event[1][1]\n",
    "            #Check state\n",
    "            if States[indx]==0:\n",
    "                #Change state\n",
    "                States[indx] = 1\n",
    "                #Generate new state time and push to event queue\n",
    "                statetime = GenerateStateTime(w_1,w_2,States[indx])\n",
    "                heapq.heappush(events,(statetime+T,('StateChange',indx)))\n",
    "                #If no arrival for the IPP, generate new arrival and push to event queue\n",
    "                if As[indx] == 0:\n",
    "                    arrivaltime = GenerateArrivalTime(lmbda,1)[0]\n",
    "                    heapq.heappush(events,(arrivaltime+T,('Arrival',indx,arrivaltime)))\n",
    "            else:\n",
    "                #Change state\n",
    "                States[indx] = 0#Generate new state time\n",
    "                #Generate new state time and push to event queue\n",
    "                statetime = GenerateStateTime(w_1,w_2,States[indx])\n",
    "                heapq.heappush(events,(statetime+T,('StateChange',indx)))\n",
    "        elif event[1][0]=='Arrival':\n",
    "            indx = event[1][1]\n",
    "            #Set no active arrival for the IPP\n",
    "            As[indx] = 0\n",
    "            #Check state\n",
    "            if States[indx]==0:\n",
    "                #Do not arrive if state is OFF\n",
    "                continue\n",
    "            else:\n",
    "                #Save arrival time\n",
    "                At.append(event[1][2])\n",
    "                #Generate new arrival time\n",
    "                arrivaltime = GenerateArrivalTime(lmbda,1)[0]\n",
    "                #Check server availability\n",
    "                if np.any(S==0):\n",
    "                    #Save to closest availble server\n",
    "                    serverindx = np.argmax(S==0)\n",
    "                    S[serverindx] = 1\n",
    "                    #Generate service time\n",
    "                    servicetime = GenerateServiceTime(servicemean,1)[0]\n",
    "                    #Push events to event queue\n",
    "                    heapq.heappush(events,(servicetime+T,('Service',serverindx)))\n",
    "                    heapq.heappush(events,(arrivaltime+T,('Arrival',indx,arrivaltime)))\n",
    "                else:\n",
    "                    #Deposit to queue\n",
    "                    DepositToQueue(T,Q,Ql)\n",
    "                    #Push events to event queue\n",
    "                    heapq.heappush(events,(arrivaltime+T,('Arrival',indx,arrivaltime)))\n",
    "                    #Increase customers been in queue\n",
    "                    M += 1\n",
    "        elif event[1][0]=='Service':\n",
    "            indx = event[1][1]\n",
    "            #Set server to idle\n",
    "            S[indx] = 0\n",
    "            #Increase customers served\n",
    "            k+=1\n",
    "            #Check if queue is empty\n",
    "            if Q:\n",
    "                #Draw from queue\n",
    "                S[indx] = DrawFromQueue(T,Q,Ql,Qt,S[indx])\n",
    "                #Generate and push new service times\n",
    "                servicetime = GenerateServiceTime(servicemean,1)[0]\n",
    "                heapq.heappush(events,(servicetime+T,('Service',indx)))\n",
    "            else:\n",
    "                SAt.append(T-sat)\n",
    "                sat = T\n",
    "                continue\n",
    "    M -= len(Q)\n",
    "    #Ql is the queue lengths with corresponding time            \n",
    "    #Qt is the saved queue times\n",
    "    #M is the queued amount\n",
    "    #At is the arrival times for the arrival time distribution\n",
    "    return Ql,Qt,M,At,SAt"
   ]
  },
  {
   "cell_type": "code",
   "execution_count": 123,
   "metadata": {
    "collapsed": true
   },
   "outputs": [],
   "source": [
    "def SimQueueIPPLimit(N,servicemean,w_1,w_2,lmbda,K,L,W):\n",
    "    import heapq\n",
    "    import numpy as np\n",
    "    #N is the number of units\n",
    "    #s is the service time mean\n",
    "    #w_1 is the frequency to switching from ON to OFF\n",
    "    #w_2 is the frequency to switching from OFF to ON\n",
    "    #lmbda is the arrival intensity\n",
    "    #L is the superpositions\n",
    "    \n",
    "    \n",
    "    #Q is the current queue\n",
    "    Q = []\n",
    "    #Qt is the saved queue times\n",
    "    Qt = []\n",
    "    #Ql is the queue lengths with corresponding time\n",
    "    Ql = []\n",
    "    #M is the queued amount\n",
    "    M = 0\n",
    "    #S is the server status\n",
    "    S = np.zeros((N,))\n",
    "    #States is the state of the l'th IPP\n",
    "    States = np.ones((L,))\n",
    "    #T is the current event time\n",
    "    T = 0\n",
    "    #events is the prioritized event queue\n",
    "    events = []\n",
    "    #Here we generate the first arrivals and state change events and push events to event queue\n",
    "    arrival = GenerateArrivalTime(lmbda,L)\n",
    "    for l in range(L):\n",
    "        heapq.heappush(events,(GenerateStateTime(w_1,w_2,1),('StateChange',l)))\n",
    "    for indx,e in enumerate(arrival):\n",
    "        heapq.heappush(events,(e,('Arrival',indx,e)))\n",
    "    #k is the number of customers processed\n",
    "    k = 0\n",
    "    #A is the l'th arrival state, if 0 no arrival is present, if 1 an arrival is present\n",
    "    As = np.ones((L,))\n",
    "    #At is the arrival times for the arrival time distribution\n",
    "    At = []\n",
    "    #SAt is the server activity times\n",
    "    SAt = []\n",
    "    sat = np.min(arrival)\n",
    "    B = 0\n",
    "    while(k<K):\n",
    "        #Prints for debugging\n",
    "        #print(list(events))\n",
    "        #print(Ql)\n",
    "        \n",
    "        #Extract next event\n",
    "        event = heapq.heappop(events)\n",
    "        #Set new event time\n",
    "        T = event[0]\n",
    "        #Check for event type\n",
    "        if event[1][0]=='StateChange':\n",
    "            indx = event[1][1]\n",
    "            #Check state\n",
    "            if States[indx]==0:\n",
    "                #Change state\n",
    "                States[indx] = 1\n",
    "                #Generate new state time and push to event queue\n",
    "                statetime = GenerateStateTime(w_1,w_2,States[indx])\n",
    "                heapq.heappush(events,(statetime+T,('StateChange',indx)))\n",
    "                #If no arrival for the IPP, generate new arrival and push to event queue\n",
    "                if As[indx] == 0:\n",
    "                    arrivaltime = GenerateArrivalTime(lmbda,1)[0]\n",
    "                    heapq.heappush(events,(arrivaltime+T,('Arrival',indx,arrivaltime)))\n",
    "            else:\n",
    "                #Change state\n",
    "                States[indx] = 0#Generate new state time\n",
    "                #Generate new state time and push to event queue\n",
    "                statetime = GenerateStateTime(w_1,w_2,States[indx])\n",
    "                heapq.heappush(events,(statetime+T,('StateChange',indx)))\n",
    "        elif event[1][0]=='Arrival':\n",
    "            indx = event[1][1]\n",
    "            #Set no active arrival for the IPP\n",
    "            As[indx] = 0\n",
    "            #Check state\n",
    "            if States[indx]==0:\n",
    "                #Do not arrive if state is OFF\n",
    "                continue\n",
    "            else:\n",
    "                #Save arrival time\n",
    "                At.append(event[1][2])\n",
    "                #Generate new arrival time\n",
    "                arrivaltime = GenerateArrivalTime(lmbda,1)[0]\n",
    "                #Check server availability\n",
    "                if np.any(S==0):\n",
    "                    #Save to closest availble server\n",
    "                    serverindx = np.argmax(S==0)\n",
    "                    S[serverindx] = 1\n",
    "                    #Generate service time\n",
    "                    servicetime = GenerateServiceTime(servicemean,1)[0]\n",
    "                    #Push events to event queue\n",
    "                    heapq.heappush(events,(servicetime+T,('Service',serverindx)))\n",
    "                    heapq.heappush(events,(arrivaltime+T,('Arrival',indx,arrivaltime)))\n",
    "                else:\n",
    "                    #Deposit to queue\n",
    "                    if len(Q)>W-1:\n",
    "                        B += 1\n",
    "                    else:\n",
    "                        DepositToQueue(T,Q,Ql)\n",
    "                        #Push events to event queue\n",
    "                        heapq.heappush(events,(arrivaltime+T,('Arrival',indx,arrivaltime)))\n",
    "                        #Increase customers been in queue\n",
    "                        M += 1\n",
    "        elif event[1][0]=='Service':\n",
    "            indx = event[1][1]\n",
    "            #Set server to idle\n",
    "            S[indx] = 0\n",
    "            #Increase customers served\n",
    "            k+=1\n",
    "            #Check if queue is empty\n",
    "            if Q:\n",
    "                #Draw from queue\n",
    "                S[indx] = DrawFromQueue(T,Q,Ql,Qt,S[indx])\n",
    "                #Generate and push new service times\n",
    "                servicetime = GenerateServiceTime(servicemean,1)[0]\n",
    "                heapq.heappush(events,(servicetime+T,('Service',indx)))\n",
    "            else:\n",
    "                SAt.append(T-sat)\n",
    "                sat = T\n",
    "                continue\n",
    "    M -= len(Q)\n",
    "    #Ql is the queue lengths with corresponding time            \n",
    "    #Qt is the saved queue times\n",
    "    #M is the queued amount\n",
    "    #At is the arrival times for the arrival time distribution\n",
    "    return Ql,Qt,M,At,SAt,B"
   ]
  },
  {
   "cell_type": "code",
   "execution_count": 199,
   "metadata": {},
   "outputs": [],
   "source": [
    "def SimQueueIPPLimitTime(N,servicemean,w_1,w_2,lmbda,K,L,w):\n",
    "    import heapq\n",
    "    import numpy as np\n",
    "    #N is the number of units\n",
    "    #s is the service time mean\n",
    "    #w_1 is the frequency to switching from ON to OFF\n",
    "    #w_2 is the frequency to switching from OFF to ON\n",
    "    #lmbda is the arrival intensity\n",
    "    #L is the superpositions\n",
    "    \n",
    "    \n",
    "    #Q is the current queue\n",
    "    Q = []\n",
    "    #Qt is the saved queue times\n",
    "    Qt = []\n",
    "    #Ql is the queue lengths with corresponding time\n",
    "    Ql = []\n",
    "    #M is the queued amount\n",
    "    M = 0\n",
    "    #S is the server status\n",
    "    S = np.zeros((N,))\n",
    "    #States is the state of the l'th IPP\n",
    "    States = np.ones((L,))\n",
    "    #T is the current event time\n",
    "    T = 0\n",
    "    #events is the prioritized event queue\n",
    "    events = []\n",
    "    #Here we generate the first arrivals and state change events and push events to event queue\n",
    "    arrival = GenerateArrivalTime(lmbda,L)\n",
    "    for l in range(L):\n",
    "        heapq.heappush(events,(GenerateStateTime(w_1,w_2,1),('StateChange',l)))\n",
    "    for indx,e in enumerate(arrival):\n",
    "        heapq.heappush(events,(e,('Arrival',indx,e)))\n",
    "    #k is the number of customers processed\n",
    "    k = 0\n",
    "    #A is the l'th arrival state, if 0 no arrival is present, if 1 an arrival is present\n",
    "    As = np.ones((L,))\n",
    "    #At is the arrival times for the arrival time distribution\n",
    "    At = []\n",
    "    #SAt is the server activity times\n",
    "    SAt = []\n",
    "    sat = np.min(arrival)\n",
    "    B = 0\n",
    "    while(k<K):\n",
    "        #Prints for debugging\n",
    "        #print(list(events))\n",
    "        #print(Ql)\n",
    "        \n",
    "        #Extract next event\n",
    "        event = heapq.heappop(events)\n",
    "        #Set new event time\n",
    "        T = event[0]\n",
    "        #Check for event type\n",
    "        if event[1][0]=='StateChange':\n",
    "            indx = event[1][1]\n",
    "            #Check state\n",
    "            if States[indx]==0:\n",
    "                #Change state\n",
    "                States[indx] = 1\n",
    "                #Generate new state time and push to event queue\n",
    "                statetime = GenerateStateTime(w_1,w_2,States[indx])\n",
    "                heapq.heappush(events,(statetime+T,('StateChange',indx)))\n",
    "                #If no arrival for the IPP, generate new arrival and push to event queue\n",
    "                if As[indx] == 0:\n",
    "                    arrivaltime = GenerateArrivalTime(lmbda,1)[0]\n",
    "                    heapq.heappush(events,(arrivaltime+T,('Arrival',indx,arrivaltime)))\n",
    "            else:\n",
    "                #Change state\n",
    "                States[indx] = 0#Generate new state time\n",
    "                #Generate new state time and push to event queue\n",
    "                statetime = GenerateStateTime(w_1,w_2,States[indx])\n",
    "                heapq.heappush(events,(statetime+T,('StateChange',indx)))\n",
    "        elif event[1][0]=='Arrival':\n",
    "            indx = event[1][1]\n",
    "            #Set no active arrival for the IPP\n",
    "            As[indx] = 0\n",
    "            #Check state\n",
    "            if States[indx]==0:\n",
    "                #Do not arrive if state is OFF\n",
    "                continue\n",
    "            else:\n",
    "                #Save arrival time\n",
    "                At.append(event[1][2])\n",
    "                #Generate new arrival time\n",
    "                arrivaltime = GenerateArrivalTime(lmbda,1)[0]\n",
    "                #Check server availability\n",
    "                if np.any(S==0):\n",
    "                    #Save to closest availble server\n",
    "                    serverindx = np.argmax(S==0)\n",
    "                    S[serverindx] = 1\n",
    "                    #Generate service time\n",
    "                    servicetime = GenerateServiceTime(servicemean,1)[0]\n",
    "                    #Push events to event queue\n",
    "                    heapq.heappush(events,(servicetime+T,('Service',serverindx)))\n",
    "                    heapq.heappush(events,(arrivaltime+T,('Arrival',indx,arrivaltime)))\n",
    "                else:\n",
    "                    #Deposit to queue\n",
    "                    DepositToQueueWithTime(T,Q,Ql,w)\n",
    "                    \n",
    "                    #Push events to event queue\n",
    "                    heapq.heappush(events,(arrivaltime+T,('Arrival',indx,arrivaltime)))\n",
    "                    #Increase customers been in queue\n",
    "                    M += 1\n",
    "        elif event[1][0]=='Service':\n",
    "            indx = event[1][1]\n",
    "            #Set server to idle\n",
    "            S[indx] = 0\n",
    "            #Increase customers served\n",
    "            k+=1\n",
    "            if k%(K/10)==0:\n",
    "                print(k)\n",
    "            #Check if queue is empty\n",
    "            if Q:\n",
    "                #Draw from queue\n",
    "                TimeCheck= 0\n",
    "                while (Q and T>TimeCheck):\n",
    "                    #print(Q)\n",
    "                    TimeCheck = DrawFromQueueWithTime(T,Q,Ql,Qt)\n",
    "                    if T>TimeCheck:\n",
    "                        B+=1\n",
    "                    else:\n",
    "                        #Generate and push new service times\n",
    "                        S[indx] = 1\n",
    "                        servicetime = GenerateServiceTime(servicemean,1)[0]\n",
    "                        heapq.heappush(events,(servicetime+T,('Service',indx)))\n",
    "            else:\n",
    "                SAt.append(T-sat)\n",
    "                sat = T\n",
    "                continue\n",
    "    M -= len(Q)\n",
    "    #Ql is the queue lengths with corresponding time            \n",
    "    #Qt is the saved queue times\n",
    "    #M is the queued amount\n",
    "    #At is the arrival times for the arrival time distribution\n",
    "    return Ql,Qt,M,At,SAt,B"
   ]
  },
  {
   "cell_type": "code",
   "execution_count": 52,
   "metadata": {},
   "outputs": [
    {
     "name": "stdout",
     "output_type": "stream",
     "text": [
      "0\n",
      "10\n",
      "20\n",
      "30\n",
      "40\n",
      "50\n",
      "60\n",
      "70\n",
      "80\n",
      "90\n",
      "0.407017\n",
      "[0.40133134751082405, 0.41270265248917598]\n"
     ]
    }
   ],
   "source": [
    "Ms = []\n",
    "for i in range(100):\n",
    "    Ql,Qt,M,At=SimQueuePP(10,8,1/8,1/8,1,10000,1)\n",
    "    Ms.append(M)\n",
    "    if i%10==0:\n",
    "        print(i)\n",
    "mean = np.mean(np.divide(Ms,10000))\n",
    "print(mean)\n",
    "S = np.var(np.divide(Ms,10000),ddof=1)\n",
    "print([mean+t.ppf(0.025,100)*np.sqrt(S)/np.sqrt(100),mean+t.ppf(0.975,100)*np.sqrt(S)/np.sqrt(100)])"
   ]
  },
  {
   "cell_type": "code",
   "execution_count": 96,
   "metadata": {
    "collapsed": true
   },
   "outputs": [],
   "source": [
    "probs=-1/2*np.log(np.random.rand(10000))/2\n",
    "probs = probs-1/2*np.log(np.random.rand(10000))*2"
   ]
  },
  {
   "cell_type": "code",
   "execution_count": 116,
   "metadata": {},
   "outputs": [],
   "source": [
    "Ql,Qt,M,At,SAt=SimQueueIPP(10,6,1/8,1/8,1/10,10000,10)"
   ]
  },
  {
   "cell_type": "code",
   "execution_count": 198,
   "metadata": {},
   "outputs": [
    {
     "data": {
      "image/png": "[encoded data removed]",
      "text/plain": [
       "<matplotlib.figure.Figure at 0x7f29f4072e80>"
      ]
     },
     "metadata": {},
     "output_type": "display_data"
    },
    {
     "data": {
      "image/png": "[encoded data removed]",
      "text/plain": [
       "<matplotlib.figure.Figure at 0x7f2a0464e860>"
      ]
     },
     "metadata": {},
     "output_type": "display_data"
    },
    {
     "data": {
      "image/png": "[encoded data removed]",
      "text/plain": [
       "<matplotlib.figure.Figure at 0x7f2a0425a390>"
      ]
     },
     "metadata": {},
     "output_type": "display_data"
    },
    {
     "data": {
      "image/png": "[encoded data removed]",
      "text/plain": [
       "<matplotlib.figure.Figure at 0x7f2a05e56cc0>"
      ]
     },
     "metadata": {},
     "output_type": "display_data"
    },
    {
     "data": {
      "image/png": "[encoded data removed]",
      "text/plain": [
       "<matplotlib.figure.Figure at 0x7f299cba9978>"
      ]
     },
     "metadata": {},
     "output_type": "display_data"
    }
   ],
   "source": [
    "plt.figure()\n",
    "plt.hist(probs,bins=np.linspace(0,10,100),normed=True)\n",
    "plt.title('Theoritical Hyper Exponential Distribution')\n",
    "plt.figure()\n",
    "plt.hist(At,bins=np.linspace(0,10,100))\n",
    "plt.title('Arrival Time Distribution')\n",
    "plt.figure()\n",
    "plt.hist(SAt,bins=np.linspace(0,20,200))\n",
    "plt.title('Server Activity Time Distribution')\n",
    "Ql = np.array(Ql)\n",
    "plt.figure()\n",
    "plt.title('Wating time distribution')\n",
    "plt.hist(Qt,bins=np.linspace(0,50,100))\n",
    "plt.figure()\n",
    "plt.title('Queue lengths as a function of time')\n",
    "plt.plot(Ql[:,0],Ql[:,1])\n",
    "plt.show()"
   ]
  },
  {
   "cell_type": "code",
   "execution_count": 135,
   "metadata": {},
   "outputs": [],
   "source": [
    "Ql,Qt,M,At,SAt,B=SimQueueIPPLimit(1,1,1/8,1/8,1,10000,1,2)"
   ]
  },
  {
   "cell_type": "code",
   "execution_count": 202,
   "metadata": {},
   "outputs": [
    {
     "data": {
      "text/plain": [
       "1407"
      ]
     },
     "execution_count": 202,
     "metadata": {},
     "output_type": "execute_result"
    }
   ],
   "source": [
    "B"
   ]
  },
  {
   "cell_type": "code",
   "execution_count": 200,
   "metadata": {},
   "outputs": [
    {
     "name": "stdout",
     "output_type": "stream",
     "text": [
      "1000\n",
      "2000\n",
      "3000\n",
      "4000\n",
      "5000\n",
      "6000\n",
      "7000\n",
      "8000\n",
      "9000\n",
      "10000\n"
     ]
    }
   ],
   "source": [
    "Ql,Qt,M,At,SAt,B=SimQueueIPPLimitTime(1,1,1/8,1/8,1,10000,1,20)"
   ]
  },
  {
   "cell_type": "code",
   "execution_count": 201,
   "metadata": {},
   "outputs": [
    {
     "data": {
      "text/plain": [
       "8790"
      ]
     },
     "execution_count": 201,
     "metadata": {},
     "output_type": "execute_result"
    }
   ],
   "source": [
    "M"
   ]
  },
  {
   "cell_type": "code",
   "execution_count": 172,
   "metadata": {},
   "outputs": [
    {
     "data": {
      "image/png": "[encoded data removed]",
      "text/plain": [
       "<matplotlib.figure.Figure at 0x7f29f3f93c88>"
      ]
     },
     "metadata": {},
     "output_type": "display_data"
    }
   ],
   "source": [
    "plt.hist(-np.log(np.random.rand(10000))/(1/20))\n",
    "plt.show()"
   ]
  },
  {
   "cell_type": "code",
   "execution_count": null,
   "metadata": {
    "collapsed": true
   },
   "outputs": [],
   "source": []
  }
 ],
 "metadata": {
  "kernelspec": {
   "display_name": "Python 3",
   "language": "python",
   "name": "python3"
  },
  "language_info": {
   "codemirror_mode": {
    "name": "ipython",
    "version": 3
   },
   "file_extension": ".py",
   "mimetype": "text/x-python",
   "name": "python",
   "nbconvert_exporter": "python",
   "pygments_lexer": "ipython3",
   "version": "3.6.3"
  }
 },
 "nbformat": 4,
 "nbformat_minor": 2
}
