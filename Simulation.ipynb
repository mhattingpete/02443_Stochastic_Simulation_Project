{
 "cells": [
  {
   "cell_type": "markdown",
   "metadata": {},
   "source": [
    "# Project on Example title"
   ]
  },
  {
   "cell_type": "markdown",
   "metadata": {},
   "source": [
    "## Imports"
   ]
  },
  {
   "cell_type": "code",
   "execution_count": 1,
   "metadata": {},
   "outputs": [],
   "source": [
    "%matplotlib inline\n",
    "import scipy.stats as sts\n",
    "import numpy as np\n",
    "import heapq\n",
    "from scipy.special import factorial\n",
    "import matplotlib.pyplot as plt\n",
    "\n",
    "Status = {True:\"Idle\",False:\"Busy\"}\n",
    "ActiveStatus = {True:\"Active\",False:\"Inactive\"}"
   ]
  },
  {
   "cell_type": "markdown",
   "metadata": {},
   "source": [
    "### Server class"
   ]
  },
  {
   "cell_type": "code",
   "execution_count": 2,
   "metadata": {},
   "outputs": [],
   "source": [
    "class Server:\n",
    "    def __init__(self,id):\n",
    "        self.id = id\n",
    "        self.idle = True\n",
    "\n",
    "    def setIdle(self):\n",
    "        self.idle = True\n",
    "\n",
    "    def setBusy(self):\n",
    "        self.idle = False\n",
    "        \n",
    "    def __repr__(self):\n",
    "        return \"Server {} is {}\".format(self.id,Status[self.idle])"
   ]
  },
  {
   "cell_type": "markdown",
   "metadata": {},
   "source": [
    "### Arrival process class"
   ]
  },
  {
   "cell_type": "code",
   "execution_count": 3,
   "metadata": {},
   "outputs": [],
   "source": [
    "class ArrivalProcess:\n",
    "    def __init__(self,id):\n",
    "        self.id = id\n",
    "        self.active = True # corresponds to States[indx] = 1\n",
    "        self.idle = False # corresponds to As[indx] = 1\n",
    "        \n",
    "    def setActive(self):\n",
    "        self.active = True\n",
    "    \n",
    "    def setInactive(self):\n",
    "        self.active = False\n",
    "        \n",
    "    def setIdle(self):\n",
    "        self.idle = True\n",
    "        \n",
    "    def setBusy(self):\n",
    "        self.idle = False\n",
    "        \n",
    "    def __repr__(self):\n",
    "        return \"ArrivalProcess {}, is {} and {}\".format(self.id,ActiveStatus[self.active],Status[self.idle])"
   ]
  },
  {
   "cell_type": "markdown",
   "metadata": {},
   "source": [
    "### Queue class"
   ]
  },
  {
   "cell_type": "code",
   "execution_count": 4,
   "metadata": {},
   "outputs": [],
   "source": [
    "class Queue:\n",
    "    def __init__(self,size=None):\n",
    "        self.size = size\n",
    "        self.Q = []\n",
    "        self.Qlen = []\n",
    "        self.Qtime = []\n",
    "        \n",
    "    def isempty(self):\n",
    "        if self.Q:\n",
    "            return False\n",
    "        else:\n",
    "            return True\n",
    "    \n",
    "    def depositToQueue(self,arrtime):\n",
    "        #arrtime is the arrival time\n",
    "        if arrtime:\n",
    "            if self.size and self.size < len(self.Q)+1:\n",
    "                return False\n",
    "            else:\n",
    "                self.Q.append(arrtime)\n",
    "                self.Qlen.append([arrtime,len(self.Q)])\n",
    "                return True\n",
    "    \n",
    "    def drawFromQueue(self,Time):\n",
    "        #Time is current time\n",
    "        q0 = self.Q.pop(0)\n",
    "        self.Qtime.append(Time-q0)\n",
    "        if self.Q:\n",
    "            self.Qlen.append([Time,len(self.Q)])\n",
    "        else:\n",
    "            self.Qlen.append([Time,0])\n",
    "    \n",
    "    def generateQueueTime(self,num=1):\n",
    "        if self.queueTime:\n",
    "            return self.queueTime(num)\n",
    "        else:\n",
    "            return 0"
   ]
  },
  {
   "cell_type": "markdown",
   "metadata": {},
   "source": [
    "### Simulation class"
   ]
  },
  {
   "cell_type": "code",
   "execution_count": 5,
   "metadata": {},
   "outputs": [],
   "source": [
    "class Simulation:\n",
    "    def __init__(self,num_servers,interarrival,service,stateGen=None,superpositions=1,queue_size=None):\n",
    "        # Number of servers\n",
    "        self.num_servers = num_servers\n",
    "        self.servers = [Server(i) for i in range(num_servers)]\n",
    "        \n",
    "        # Queue\n",
    "        # if queue_size is none then queue is infinite\n",
    "        self.queue = Queue(queue_size)\n",
    "        \n",
    "        # function that generates interarrival times\n",
    "        self.interarrivalGen = interarrival\n",
    "        \n",
    "        # function that generates service times\n",
    "        self.serviceGen = service\n",
    "        \n",
    "        # if stateGen tuple is given then split into stateGenOnToOff and stateGenOffToOn\n",
    "        if stateGen:\n",
    "            stateGenOnToOff,stateGenOffToOn = stateGen\n",
    "            self.stateGenOnToOff = stateGenOnToOff\n",
    "            self.stateGenOffToOn = stateGenOffToOn\n",
    "            \n",
    "            # generate initial state change times\n",
    "            init_states = self.generateState(superpositions)\n",
    "            self.stateGen = True\n",
    "        else:\n",
    "            # if stateGen is none then we don't use IPP but PP instead\n",
    "            init_states = []\n",
    "            self.stateGen = False\n",
    "        \n",
    "        # number of arrival processes\n",
    "        self.superpositions = superpositions\n",
    "        \n",
    "        # define arrival processes\n",
    "        self.arrivalprocesses = [ArrivalProcess(i) for i in range(superpositions)]\n",
    "        \n",
    "        # set initial clock\n",
    "        self.clock = 0.0\n",
    "        \n",
    "        # create event list\n",
    "        self.events = []\n",
    "        \n",
    "        # get initial arrivals\n",
    "        init_arrivals = self.generateInterarrival(superpositions)\n",
    "        \n",
    "        # add state changes to event list\n",
    "        for indx,e in enumerate(init_states):\n",
    "            heapq.heappush(self.events,(e,('StateChange',indx)))\n",
    "        \n",
    "        # add arrivals to event list\n",
    "        for indx,e in enumerate(init_arrivals):\n",
    "            heapq.heappush(self.events,(e,('Arrival',indx,e)))\n",
    "            \n",
    "        # statistics to be gathered\n",
    "        self.num_arrivals = 0\n",
    "        self.enqueued = 0\n",
    "        self.num_departed = 0\n",
    "        self.num_blocked = 0\n",
    "        self.arrivalTimes = []\n",
    "        self.serviceActivityTimes = []\n",
    "        self.serviceTime = np.min(init_arrivals)\n",
    "        \n",
    "    def printServers(self):\n",
    "        for i in range(self.num_servers):\n",
    "            print(\"Server {0} is {1}\".format(self.servers[i].id,Status[self.servers[i].idle]))\n",
    "        print(\"\")\n",
    "        \n",
    "    # find idle servers\n",
    "    def serversIdle(self):\n",
    "        for i,s in enumerate(self.servers):\n",
    "            if s.idle:\n",
    "                return i\n",
    "        return None\n",
    "\n",
    "    # advance time one step, get and handle next event\n",
    "    def advanceTime(self):\n",
    "        # get next event\n",
    "        #print(self.events)\n",
    "        event = heapq.heappop(self.events)\n",
    "        # set clock to next event time\n",
    "        self.clock = event[0]\n",
    "        # get event type\n",
    "        event_type = event[1][0]\n",
    "        # get index from event (either the index of the server of arrival process)\n",
    "        indx = event[1][1]\n",
    "        if event_type == 'StateChange':\n",
    "            if self.stateGen:\n",
    "                self.handleStateChange(indx)\n",
    "        elif event_type == 'Arrival':\n",
    "            old_arrivaltime = event[1][2]\n",
    "            self.handleArrivalEvent(indx,old_arrivaltime)\n",
    "        elif event_type == 'Service':\n",
    "            self.handleDepartEvent(indx)\n",
    "            \n",
    "    # handle state change event\n",
    "    def handleStateChange(self,indx):\n",
    "        arrivalProcess = self.arrivalprocesses[indx]\n",
    "        if arrivalProcess.active == False:\n",
    "            arrivalProcess.setActive()\n",
    "            statetime = self.generateState(currentState=arrivalProcess.active)[0]\n",
    "            heapq.heappush(self.events,(statetime+self.clock,('StateChange',indx)))\n",
    "            if arrivalProcess.idle:\n",
    "                arrivaltime = self.generateInterarrival()[0]\n",
    "                heapq.heappush(self.events,(arrivaltime+self.clock,('Arrival',indx,arrivaltime)))\n",
    "                arrivalProcess.setBusy()\n",
    "        else:\n",
    "            arrivalProcess.setInactive()\n",
    "            statetime = self.generateState(currentState=arrivalProcess.active)[0]\n",
    "            heapq.heappush(self.events,(statetime+self.clock,('StateChange',indx)))\n",
    "\n",
    "    # handle arrival event\n",
    "    def handleArrivalEvent(self,indx,old_arrivaltime):\n",
    "        self.num_arrivals += 1\n",
    "        arrivalProcess = self.arrivalprocesses[indx]\n",
    "        arrivalProcess.setIdle()\n",
    "        if arrivalProcess.active == False:\n",
    "            pass\n",
    "        else:\n",
    "            self.arrivalTimes.append(old_arrivaltime)\n",
    "            arrivaltime = self.generateInterarrival()[0]\n",
    "            serverIndx = self.serversIdle()\n",
    "            if serverIndx is not None:\n",
    "                servicetime = self.generateService()[0]\n",
    "                heapq.heappush(self.events,(servicetime+self.clock,('Service',serverIndx)))\n",
    "                heapq.heappush(self.events,(arrivaltime+self.clock,('Arrival',indx,arrivaltime)))\n",
    "                self.servers[serverIndx].setBusy()\n",
    "            else:\n",
    "                if self.queue.depositToQueue(self.clock):\n",
    "                    self.enqueued += 1\n",
    "                else:\n",
    "                    self.num_blocked += 1\n",
    "                heapq.heappush(self.events,(arrivaltime+self.clock,('Arrival',indx,arrivaltime)))\n",
    "\n",
    "    # handle service event - which is actually a departure\n",
    "    def handleDepartEvent(self,indx):\n",
    "        self.servers[indx].setIdle()\n",
    "        self.num_departed += 1\n",
    "        if self.queue.isempty() == False:\n",
    "            timeQueued = self.queue.drawFromQueue(self.clock)\n",
    "            self.servers[indx].setBusy()\n",
    "            servicetime = self.generateService()[0]\n",
    "            heapq.heappush(self.events,(servicetime+self.clock,('Service',indx)))\n",
    "        else:\n",
    "            self.serviceActivityTimes.append(self.clock-self.serviceTime)\n",
    "            self.serviceTime = self.clock\n",
    "            \n",
    "    # generate next interarrival time\n",
    "    def generateInterarrival(self,num=1):\n",
    "        return self.interarrivalGen(num)\n",
    "\n",
    "    # generate next service time\n",
    "    def generateService(self,num=1):\n",
    "        return self.serviceGen(num)\n",
    "    \n",
    "    # generate next state change time\n",
    "    def generateState(self,num=1,currentState=1):\n",
    "        if currentState == 1:\n",
    "            return self.stateGenOnToOff(num)\n",
    "        else:\n",
    "            return self.stateGenOffToOn(num)"
   ]
  },
  {
   "cell_type": "markdown",
   "metadata": {},
   "source": [
    "### Run the simulator with a poisson process"
   ]
  },
  {
   "cell_type": "code",
   "execution_count": 6,
   "metadata": {
    "scrolled": false
   },
   "outputs": [
    {
     "name": "stdout",
     "output_type": "stream",
     "text": [
      "Run 10 out of 100\n",
      "Run 20 out of 100\n",
      "Run 30 out of 100\n",
      "Run 40 out of 100\n",
      "Run 50 out of 100\n",
      "Run 60 out of 100\n",
      "Run 70 out of 100\n",
      "Run 80 out of 100\n",
      "Run 90 out of 100\n",
      "Run 100 out of 100\n"
     ]
    }
   ],
   "source": [
    "num_servers = 10\n",
    "service_mean = 8\n",
    "w1 = 8\n",
    "w2 = 8\n",
    "lmbda = 1\n",
    "\n",
    "interarrival_exp = lambda num: sts.expon.rvs(size=num,scale=1./lmbda)\n",
    "service_exp = lambda num: sts.expon.rvs(size=num,scale=service_mean)\n",
    "stateGen = None\n",
    "\n",
    "num_runs = 100\n",
    "num_departs = 10000\n",
    "enqueued = np.zeros((num_runs,))\n",
    "for run in range(num_runs):\n",
    "    if (run+1) % 10 == 0:\n",
    "        print(\"Run {} out of {}\".format(run+1,num_runs))\n",
    "    s = Simulation(num_servers=num_servers,interarrival=interarrival_exp,service=service_exp,\n",
    "                   stateGen=stateGen,superpositions=1)\n",
    "    while s.num_departed < num_departs:\n",
    "        s.advanceTime()\n",
    "    enqueued[run] = s.enqueued/num_departs"
   ]
  },
  {
   "cell_type": "markdown",
   "metadata": {},
   "source": [
    "### Results from above"
   ]
  },
  {
   "cell_type": "code",
   "execution_count": 7,
   "metadata": {},
   "outputs": [
    {
     "name": "stdout",
     "output_type": "stream",
     "text": [
      "\n",
      "Enqueue prob. mean: 0.407742\n",
      "Enqueue prob. var: 6.907653e-04\n",
      "Enqueue prob. CI: [0.402527,0.412957]\n"
     ]
    },
    {
     "data": {
      "text/plain": [
       "[<matplotlib.lines.Line2D at 0x7ff0d018c5c0>]"
      ]
     },
     "execution_count": 7,
     "metadata": {},
     "output_type": "execute_result"
    },
    {
     "data": {
      "image/png": "[encoded data removed]",
      "text/plain": [
       "<Figure size 432x288 with 1 Axes>"
      ]
     },
     "metadata": {},
     "output_type": "display_data"
    },
    {
     "data": {
      "image/png": "[encoded data removed]",
      "text/plain": [
       "<Figure size 432x288 with 1 Axes>"
      ]
     },
     "metadata": {},
     "output_type": "display_data"
    },
    {
     "data": {
      "image/png": "[encoded data removed]",
      "text/plain": [
       "<Figure size 432x288 with 1 Axes>"
      ]
     },
     "metadata": {},
     "output_type": "display_data"
    },
    {
     "data": {
      "image/png": "[encoded data removed]",
      "text/plain": [
       "<Figure size 432x288 with 1 Axes>"
      ]
     },
     "metadata": {},
     "output_type": "display_data"
    },
    {
     "data": {
      "image/png": "[encoded data removed]",
      "text/plain": [
       "<Figure size 432x288 with 1 Axes>"
      ]
     },
     "metadata": {},
     "output_type": "display_data"
    }
   ],
   "source": [
    "print(\"\\nEnqueue prob. mean: {0:.6f}\".format(enqueued.mean()))\n",
    "print(\"Enqueue prob. var: {0:e}\".format(enqueued.var(ddof=1)))\n",
    "n = enqueued.shape[0]\n",
    "inner = (enqueued.std(ddof=1)/np.sqrt(n))\n",
    "alpha = 0.05\n",
    "CI = [enqueued.mean()+inner*sts.t.ppf(alpha/2,df=n-1),enqueued.mean()+inner*sts.t.ppf(1-(alpha/2),df=n-1)]\n",
    "print(\"Enqueue prob. CI: [{0:.6f},{1:.6f}]\".format(*CI))\n",
    "\n",
    "\n",
    "probs= -1/2*np.log(np.random.rand(10000))/2\n",
    "probs = probs-1/2*np.log(np.random.rand(10000))*2\n",
    "\n",
    "plt.figure()\n",
    "plt.hist(probs,bins=np.linspace(0,10,100),density=True)\n",
    "plt.title('Theoritical Hyper Exponential Distribution')\n",
    "plt.figure()\n",
    "plt.hist(s.arrivalTimes,bins=np.linspace(0,10,100))\n",
    "plt.title('Arrival Time Distribution')\n",
    "\n",
    "serviceActivityTimes = np.array(s.serviceActivityTimes)\n",
    "plt.figure()\n",
    "plt.hist(serviceActivityTimes,bins=np.linspace(0,20,200))\n",
    "plt.title('Server Activity Time Distribution')\n",
    "\n",
    "Ql = np.array(s.queue.Qlen)\n",
    "Qt = np.array(s.queue.Qtime)\n",
    "plt.figure()\n",
    "plt.title('Wating time distribution')\n",
    "plt.hist(Qt,bins=np.linspace(0,50,100))\n",
    "plt.figure()\n",
    "plt.title('Queue lengths as a function of time')\n",
    "plt.plot(Ql[:,0],Ql[:,1])"
   ]
  },
  {
   "cell_type": "markdown",
   "metadata": {},
   "source": [
    "### Erlangs C formula for expected customers enqueued"
   ]
  },
  {
   "cell_type": "code",
   "execution_count": 8,
   "metadata": {},
   "outputs": [
    {
     "name": "stdout",
     "output_type": "stream",
     "text": [
      "Expected Enqueue prob.: 0.4091801507964435\n"
     ]
    }
   ],
   "source": [
    "E = service_mean\n",
    "m = num_servers\n",
    "\n",
    "i = np.arange(m)\n",
    "p_q = (((E**m)/factorial(m))*(m/(m-E)))/(np.sum(E**i/factorial(i))+((E**m/factorial(m))*(m/(m-E))))\n",
    "print(\"Expected Enqueue prob.: {}\".format(p_q))"
   ]
  },
  {
   "cell_type": "markdown",
   "metadata": {},
   "source": [
    "### Run the simulator with an interrupted poisson process"
   ]
  },
  {
   "cell_type": "code",
   "execution_count": 9,
   "metadata": {},
   "outputs": [
    {
     "name": "stdout",
     "output_type": "stream",
     "text": [
      "Run 10 out of 100\n",
      "Run 20 out of 100\n",
      "Run 30 out of 100\n",
      "Run 40 out of 100\n",
      "Run 50 out of 100\n",
      "Run 60 out of 100\n",
      "Run 70 out of 100\n",
      "Run 80 out of 100\n",
      "Run 90 out of 100\n",
      "Run 100 out of 100\n"
     ]
    }
   ],
   "source": [
    "num_servers = 10\n",
    "service_mean = 8\n",
    "w1 = 8\n",
    "w2 = 8\n",
    "lmbda = 1\n",
    "\n",
    "interarrival_exp = lambda num: sts.expon.rvs(size=num,scale=1./lmbda)\n",
    "service_exp = lambda num: sts.expon.rvs(size=num,scale=service_mean)\n",
    "stateGenOnToOff = lambda num: sts.expon.rvs(size=num,scale=w1)\n",
    "stateGenOffToOn = lambda num: sts.expon.rvs(size=num,scale=w2)\n",
    "stateGen = (stateGenOnToOff,stateGenOffToOn)\n",
    "\n",
    "num_runs = 100\n",
    "num_departs = 10000\n",
    "enqueued = np.zeros((num_runs,))\n",
    "for run in range(num_runs):\n",
    "    if (run+1) % 10 == 0:\n",
    "        print(\"Run {} out of {}\".format(run+1,num_runs))\n",
    "    s = Simulation(num_servers=num_servers,interarrival=interarrival_exp,service=service_exp,\n",
    "                   stateGen=stateGen,superpositions=1)\n",
    "    while s.num_departed < num_departs:\n",
    "        s.advanceTime()\n",
    "    enqueued[run] = s.enqueued/num_departs"
   ]
  },
  {
   "cell_type": "markdown",
   "metadata": {},
   "source": [
    "### Results from above"
   ]
  },
  {
   "cell_type": "code",
   "execution_count": 10,
   "metadata": {},
   "outputs": [
    {
     "name": "stdout",
     "output_type": "stream",
     "text": [
      "\n",
      "Enqueue prob. mean: 0.231391\n",
      "Enqueue prob. var: 6.565780e-04\n",
      "Enqueue prob. CI: [0.226307,0.236475]\n"
     ]
    },
    {
     "data": {
      "text/plain": [
       "[<matplotlib.lines.Line2D at 0x7ff0d01bfc18>]"
      ]
     },
     "execution_count": 10,
     "metadata": {},
     "output_type": "execute_result"
    },
    {
     "data": {
      "image/png": "[encoded data removed]",
      "text/plain": [
       "<Figure size 432x288 with 1 Axes>"
      ]
     },
     "metadata": {},
     "output_type": "display_data"
    },
    {
     "data": {
      "image/png": "[encoded data removed]",
      "text/plain": [
       "<Figure size 432x288 with 1 Axes>"
      ]
     },
     "metadata": {},
     "output_type": "display_data"
    },
    {
     "data": {
      "image/png": "[encoded data removed]",
      "text/plain": [
       "<Figure size 432x288 with 1 Axes>"
      ]
     },
     "metadata": {},
     "output_type": "display_data"
    },
    {
     "data": {
      "image/png": "[encoded data removed]",
      "text/plain": [
       "<Figure size 432x288 with 1 Axes>"
      ]
     },
     "metadata": {},
     "output_type": "display_data"
    },
    {
     "data": {
      "image/png": "[encoded data removed]",
      "text/plain": [
       "<Figure size 432x288 with 1 Axes>"
      ]
     },
     "metadata": {},
     "output_type": "display_data"
    }
   ],
   "source": [
    "print(\"\\nEnqueue prob. mean: {0:.6f}\".format(enqueued.mean()))\n",
    "print(\"Enqueue prob. var: {0:e}\".format(enqueued.var(ddof=1)))\n",
    "n = enqueued.shape[0]\n",
    "inner = (enqueued.std(ddof=1)/np.sqrt(n))\n",
    "alpha = 0.05\n",
    "CI = [enqueued.mean()+inner*sts.t.ppf(alpha/2,df=n-1),enqueued.mean()+inner*sts.t.ppf(1-(alpha/2),df=n-1)]\n",
    "print(\"Enqueue prob. CI: [{0:.6f},{1:.6f}]\".format(*CI))\n",
    "\n",
    "\n",
    "probs= -1/2*np.log(np.random.rand(10000))/2\n",
    "probs = probs-1/2*np.log(np.random.rand(10000))*2\n",
    "\n",
    "plt.figure()\n",
    "plt.hist(probs,bins=np.linspace(0,10,100),density=True)\n",
    "plt.title('Theoritical Hyper Exponential Distribution')\n",
    "plt.figure()\n",
    "plt.hist(s.arrivalTimes,bins=np.linspace(0,10,100))\n",
    "plt.title('Arrival Time Distribution')\n",
    "\n",
    "serviceActivityTimes = np.array(s.serviceActivityTimes)\n",
    "plt.figure()\n",
    "plt.hist(serviceActivityTimes,bins=np.linspace(0,20,200))\n",
    "plt.title('Server Activity Time Distribution')\n",
    "\n",
    "Ql = np.array(s.queue.Qlen)\n",
    "Qt = np.array(s.queue.Qtime)\n",
    "plt.figure()\n",
    "plt.title('Wating time distribution')\n",
    "plt.hist(Qt,bins=np.linspace(0,50,100))\n",
    "plt.figure()\n",
    "plt.title('Queue lengths as a function of time')\n",
    "plt.plot(Ql[:,0],Ql[:,1])"
   ]
  },
  {
   "cell_type": "code",
   "execution_count": null,
   "metadata": {},
   "outputs": [],
   "source": []
  }
 ],
 "metadata": {
  "kernelspec": {
   "display_name": "Python 3",
   "language": "python",
   "name": "python3"
  },
  "language_info": {
   "codemirror_mode": {
    "name": "ipython",
    "version": 3
   },
   "file_extension": ".py",
   "mimetype": "text/x-python",
   "name": "python",
   "nbconvert_exporter": "python",
   "pygments_lexer": "ipython3",
   "version": "3.6.5"
  }
 },
 "nbformat": 4,
 "nbformat_minor": 2
}
